{
 "cells": [
  {
   "cell_type": "code",
   "execution_count": 28,
   "metadata": {},
   "outputs": [
    {
     "name": "stdout",
     "output_type": "stream",
     "text": [
      "37\n",
      "{'a': 1, 'c': 2, 'b': 1}\n"
     ]
    }
   ],
   "source": [
    "#!/usr/bin/python\n",
    "#\n",
    "# What's the minimum value for:\n",
    "#\n",
    "#        ABC\n",
    "#      -------\n",
    "#       A+B+C\n",
    "#\n",
    "# From http://www.umassd.edu/mathcontest/abc.cfm\n",
    "#\n",
    "from constraint import Problem\n",
    "\n",
    "\n",
    "def solve():\n",
    "    problem = Problem()\n",
    "    problem.addVariables(\"abc\", range(1, 10))\n",
    "    problem.getSolutions()\n",
    "    minvalue = 999 / (9 * 3)\n",
    "    minsolution = {}\n",
    "    for solution in problem.getSolutions():\n",
    "        a = solution[\"a\"]\n",
    "        b = solution[\"b\"]\n",
    "        c = solution[\"c\"]\n",
    "        value = (a * 100 + b * 10 + c) / (a + b + c)\n",
    "        if value < minvalue:\n",
    "            minsolution = solution\n",
    "    return minvalue, minsolution\n",
    "\n",
    "\n",
    "def main():\n",
    "    minvalue, minsolution = solve()\n",
    "    print(minvalue)\n",
    "    print(minsolution)\n",
    "\n",
    "\n",
    "if __name__ == \"__main__\":\n",
    "    main()\n"
   ]
  },
  {
   "cell_type": "code",
   "execution_count": 29,
   "metadata": {},
   "outputs": [
    {
     "name": "stdout",
     "output_type": "stream",
     "text": [
      "6\n",
      "{'a': 2, 'c': 3, 'b': 1}\n"
     ]
    }
   ],
   "source": [
    "# a in [1..10]\n",
    "# b in [1..10]    \n",
    "# c in [1..10]  \n",
    "#\n",
    "#  Minimiser a*b*c s.q  alldiff(a,b,c) et c = a+b\n",
    "#\n",
    "from constraint import *\n",
    "\n",
    "\n",
    "def solve():\n",
    "    problem = Problem()\n",
    "    problem.addVariables(\"abc\", range(1, 10))\n",
    "    problem.addConstraint(AllDifferentConstraint())\n",
    "    problem.addConstraint(lambda a, b, c : c==a + b, (\"a\", \"b\",\"c\" ))\n",
    "    problem.getSolutions() \n",
    "    minvalue = 10*10*10\n",
    "    minsolution = {}\n",
    "    for solution in problem.getSolutions():\n",
    "        a = solution[\"a\"]\n",
    "        b = solution[\"b\"]\n",
    "        c = solution[\"c\"] \n",
    "        value = a *  b *  c \n",
    "        if value < minvalue:\n",
    "            minsolution = solution\n",
    "            minvalue = value\n",
    "    return minvalue, minsolution\n",
    "\n",
    "\n",
    "def main():\n",
    "    minvalue, minsolution = solve()\n",
    "    print(minvalue)\n",
    "    print(minsolution)\n",
    "\n",
    "\n",
    "if __name__ == \"__main__\":\n",
    "    main()\n"
   ]
  },
  {
   "cell_type": "code",
   "execution_count": 35,
   "metadata": {},
   "outputs": [
    {
     "name": "stdout",
     "output_type": "stream",
     "text": [
      "{'E': 5, 'D': 7, 'M': 1, 'O': 0, 'N': 6, 'S': 9, 'R': 8, 'Y': 2}\n"
     ]
    }
   ],
   "source": [
    "from constraint import *\n",
    "def solve():\n",
    "    problem = Problem()\n",
    "    problem.addVariables(\"SENDMORY\", range(0,10))\n",
    "    problem.addConstraint(lambda x :x!=0 , (\"S\"))\n",
    "    problem.addConstraint(lambda x :x!=0 , (\"M\"))\n",
    "    problem.addConstraint(AllDifferentConstraint())\n",
    "    problem.addConstraint(lambda S, E, N, R, D, M, O, Y:\\\n",
    "                        1000*S + 100*E + 10*N + D +1000*M \\\n",
    "                           + 100*O + 10*R +E == 10000*M +\\\n",
    "                           1000*O + 100*N + 10*E +Y, \\\n",
    "                           (\"S\", \"E\", \"N\", \"R\", \"D\", \"M\", \"O\", \"Y\"))\n",
    "    return problem.getSolution()\n",
    "\n",
    "print solve()"
   ]
  },
  {
   "cell_type": "code",
   "execution_count": null,
   "metadata": {},
   "outputs": [],
   "source": []
  },
  {
   "cell_type": "code",
   "execution_count": null,
   "metadata": {},
   "outputs": [],
   "source": []
  }
 ],
 "metadata": {
  "kernelspec": {
   "display_name": "Python 2",
   "language": "python",
   "name": "python2"
  },
  "language_info": {
   "codemirror_mode": {
    "name": "ipython",
    "version": 2
   },
   "file_extension": ".py",
   "mimetype": "text/x-python",
   "name": "python",
   "nbconvert_exporter": "python",
   "pygments_lexer": "ipython2",
   "version": "2.7.16"
  }
 },
 "nbformat": 4,
 "nbformat_minor": 2
}
